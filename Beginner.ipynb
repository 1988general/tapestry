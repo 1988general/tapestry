{
 "cells": [
  {
   "cell_type": "markdown",
   "metadata": {},
   "source": [
    "What is Python\n",
    "---\n",
    "\n",
    "- Python is an interpreted programming language. This means that the lines you write in this notebook are read by an _interpreter_ to convert what you wrote to elementary pre-compiled functions run on the computer. This happens every time you run a cell. \n",
    "- This is opposed to compiled languages which are interpreted (_compiled_) before they are run.\n",
    "- It is a lot more difficult to use compiled languages inside Jupyter Notebooks."
   ]
  },
  {
   "cell_type": "markdown",
   "metadata": {},
   "source": [
    "Helper Syntax\n",
    "---\n",
    "\n",
    "In my notes and questions, you will come across some syntax you should be aware of:\n",
    "\n",
    "1. `<Shift-Enter>`: This is a keystroke. Hold `Shift`, press `Enter`. Keys will always be capitalized (i.e. `<Tab>` means press `Tab`)\n",
    "2. `<var1> <operator> <var2>`: This means I want you to enter something, or I am demonstrating a pattern.\n",
    "    - E.g. `hello + world`. I have replaced `<var1>` with `hello`, `<operator>` with `+`, and `<var2>` with `world`"
   ]
  },
  {
   "cell_type": "markdown",
   "metadata": {},
   "source": [
    "Python Syntax\n",
    "---"
   ]
  },
  {
   "cell_type": "markdown",
   "metadata": {},
   "source": [
    "Comments\n",
    "---\n",
    "\n",
    "Lines beginning with `#` are completely ignored. Everything after `#` is ignored. Comments help increase the readability of code. In Jupyter, you can highlight blocks of code with the mouse and type `<Ctrl-l>` to comment or uncomment blocks of code."
   ]
  },
  {
   "cell_type": "code",
   "execution_count": null,
   "metadata": {
    "collapsed": true
   },
   "outputs": [],
   "source": [
    "# print(1)\n",
    "print(1) # this line will print 1"
   ]
  },
  {
   "cell_type": "markdown",
   "metadata": {},
   "source": [
    "Whitespace\n",
    "---\n",
    "\n",
    "In Python, and unlike many programming languages, whitespace is important! Try running the following cell:"
   ]
  },
  {
   "cell_type": "code",
   "execution_count": null,
   "metadata": {
    "collapsed": true
   },
   "outputs": [],
   "source": [
    "print(\"hello\")\n",
    " print(\"world\")"
   ]
  },
  {
   "cell_type": "markdown",
   "metadata": {},
   "source": [
    "Indentation\n",
    "---\n",
    "\n",
    "In this case, you have 2 options:"
   ]
  },
  {
   "cell_type": "code",
   "execution_count": null,
   "metadata": {
    "collapsed": true
   },
   "outputs": [],
   "source": [
    " print(\"hello\")\n",
    " print(\"world\")"
   ]
  },
  {
   "cell_type": "code",
   "execution_count": null,
   "metadata": {
    "collapsed": true
   },
   "outputs": [],
   "source": [
    "print(\"hello\")\n",
    "print(\"world\") "
   ]
  },
  {
   "cell_type": "markdown",
   "metadata": {},
   "source": [
    "Notes\n",
    "---\n",
    "\n",
    "```python\n",
    "print(\"hello\")\n",
    "print(\"world\")\n",
    "```\n",
    "\n",
    "The above is called a _block_ of code. All blocks must share the same indentation. Although you **can** put spaces in front of both lines and the code runs, it is strongly discouraged!\n",
    "\n",
    "- Rules of thumb:\n",
    "    - code blocks shouldn't have any leading space.\n",
    "    - nested code blocks should be indented by 4 spaces (we'll look at nested blocks later)"
   ]
  },
  {
   "cell_type": "markdown",
   "metadata": {},
   "source": [
    "Documentation\n",
    "---\n",
    "\n",
    "By now, you probably realize what `print` is doing. However, if you aren't sure, Jupyter has built in documentation! Run the following cell:"
   ]
  },
  {
   "cell_type": "code",
   "execution_count": null,
   "metadata": {
    "collapsed": true
   },
   "outputs": [],
   "source": [
    "?print"
   ]
  },
  {
   "cell_type": "markdown",
   "metadata": {},
   "source": [
    "If you can't get the documentation from Jupyter:\n",
    "\n",
    "1. Google it: \"python `<thing you are looking for>`\", places you might end up:\n",
    "    - [Stack Overflow](https://stackoverflow.com) - Best place for programming questions\n",
    "    - [Python Documentation](https://docs.python.org/3) - Good place for Python"
   ]
  },
  {
   "cell_type": "markdown",
   "metadata": {},
   "source": [
    "Notes\n",
    "---\n",
    "\n",
    "- At the bottom you should see: `Type: builtin_function_or_method`\n",
    "    - We'll come back to functions and methods later. First, we should discuss types"
   ]
  },
  {
   "cell_type": "markdown",
   "metadata": {},
   "source": [
    "Variables and Types\n",
    "---\n",
    "\n",
    "- Defining variables is as simple as using the assignment operator `<name> =`\n",
    "- Determine the type of the object with `type(<object>)`\n",
    "- You can write to output using `print(<something>)`\n",
    "- Write commands on seperate lines:"
   ]
  },
  {
   "cell_type": "code",
   "execution_count": null,
   "metadata": {
    "collapsed": true
   },
   "outputs": [],
   "source": [
    "x = 1\n",
    "print(x)"
   ]
  },
  {
   "cell_type": "markdown",
   "metadata": {},
   "source": [
    "Before the \"Tasks\"\n",
    "---\n",
    "\n",
    "#### Variables\n",
    "\n",
    "- Variables persist between cells for running notebooks. If you add a `print(x)` cell at the top of this notebook it will print `1` because `x` exists in the running _kernel_. However, if this kernel stops `x` will be purged from memory and if you try to run `print(x)` at the top of the notebook it will fail because `x` doesn't exist.\n",
    "\n",
    "#### Printing\n",
    "\n",
    "There are 3 primary ways to print to output in Python (demonstrated above).\n",
    "\n",
    "1. `print(<something>, <other>)`: separate variables by commas\n",
    "2. `print(\"{} {}\".format(<something>, <other>)`: formatted print (this style is preferred, see [Format String Syntax](https://docs.python.org/3/library/string.html#format-string-syntax) for documentation)\n",
    "3. Jupyter specific: The final line of a cell will print whatever it returned. The above code cell could be rewritten as:"
   ]
  },
  {
   "cell_type": "code",
   "execution_count": null,
   "metadata": {
    "collapsed": true
   },
   "outputs": [],
   "source": [
    "x = 1\n",
    "x"
   ]
  },
  {
   "cell_type": "markdown",
   "metadata": {},
   "source": [
    "- Using style \"3.\" you are encouraged to separate cells and it has the added benefit that you won't need `print` statements everywhere."
   ]
  },
  {
   "cell_type": "markdown",
   "metadata": {},
   "source": [
    "#### Tasks:\n",
    "\n",
    "1. Define a variable called `x` equal to `1`, print `x` and the type of `x`\n",
    "2. Define a variable called `y` equal to `\"a\"`, print `y` and the type of `y`\n",
    "3. Define a variable called `z` equal to `1.0`, print `z` and the type of `z`\n",
    "4. Define a variable called `b` equal to `True`, print `b` and the type of `b`\n",
    "5. Try the different style of `print` statements"
   ]
  },
  {
   "cell_type": "code",
   "execution_count": null,
   "metadata": {
    "collapsed": true
   },
   "outputs": [],
   "source": []
  },
  {
   "cell_type": "code",
   "execution_count": null,
   "metadata": {
    "collapsed": true
   },
   "outputs": [],
   "source": []
  },
  {
   "cell_type": "code",
   "execution_count": null,
   "metadata": {
    "collapsed": true
   },
   "outputs": [],
   "source": []
  },
  {
   "cell_type": "code",
   "execution_count": null,
   "metadata": {
    "collapsed": true
   },
   "outputs": [],
   "source": []
  },
  {
   "cell_type": "code",
   "execution_count": null,
   "metadata": {
    "collapsed": true
   },
   "outputs": [],
   "source": []
  },
  {
   "cell_type": "markdown",
   "metadata": {},
   "source": [
    "### Notes\n",
    "\n",
    "- Objects:\n",
    "    - Everything in python is an object\n",
    "    - Objects are composed of methods which can be accessed using `.`\n",
    "        - i.e. `format` is called a _method_ of the `str` (string) object\n",
    "        - You can see all of the methods of `str`:\n",
    "            - Visit the documentation: [String Methods](https://docs.python.org/3/library/stdtypes.html#string-methods)\n",
    "- Reminder: variables persist between cells, i.e. `x` should still return `1`. Does it?"
   ]
  },
  {
   "cell_type": "code",
   "execution_count": null,
   "metadata": {
    "collapsed": true
   },
   "outputs": [],
   "source": []
  },
  {
   "cell_type": "markdown",
   "metadata": {},
   "source": [
    "How would I figure out what a method does?\n",
    "---\n",
    "\n",
    "Guided Example:\n",
    "\n",
    "- Let's try to figure out what the `center` method does. Run the cells below:"
   ]
  },
  {
   "cell_type": "code",
   "execution_count": null,
   "metadata": {
    "collapsed": true
   },
   "outputs": [],
   "source": [
    "codon = \"AAA\"\n",
    "codon.center()"
   ]
  },
  {
   "cell_type": "markdown",
   "metadata": {},
   "source": [
    "- Okay, `center` expects at least one argument. We don't know what it is. Maybe we can center a codon in another sequence?"
   ]
  },
  {
   "cell_type": "code",
   "execution_count": null,
   "metadata": {
    "collapsed": true
   },
   "outputs": [],
   "source": [
    "codon.center(\"GTACCTTGATTT\")"
   ]
  },
  {
   "cell_type": "markdown",
   "metadata": {},
   "source": [
    "- Interesting, the function takes an integer."
   ]
  },
  {
   "cell_type": "code",
   "execution_count": null,
   "metadata": {
    "collapsed": true
   },
   "outputs": [],
   "source": [
    "codon.center(10)"
   ]
  },
  {
   "cell_type": "markdown",
   "metadata": {},
   "source": [
    "- Cool, we figured out what the `center` method does by listening to the interpreter!\n",
    "- If you get one thing from this workshop, it should be that the interpreter is your friend!\n",
    "- IMPORTANT: Try `codon.<Tab>` (`<Tab>` is a keystroke!) to see all of the `str` methods, this is called _autocomplete_ and is available for objects inside Jupyter.\n",
    "\n",
    "#### Tasks\n",
    "\n",
    "1. Try to find a method which would be useful for codons. Methods can be found using `codon.<Tab>` or reading the [documentation](https://docs.python.org/3/library/stdtypes.html#string-methods)"
   ]
  },
  {
   "cell_type": "code",
   "execution_count": null,
   "metadata": {
    "collapsed": true
   },
   "outputs": [],
   "source": []
  },
  {
   "cell_type": "code",
   "execution_count": null,
   "metadata": {
    "collapsed": true
   },
   "outputs": [],
   "source": []
  },
  {
   "cell_type": "code",
   "execution_count": null,
   "metadata": {
    "collapsed": true
   },
   "outputs": [],
   "source": []
  },
  {
   "cell_type": "code",
   "execution_count": null,
   "metadata": {
    "collapsed": true
   },
   "outputs": [],
   "source": []
  },
  {
   "cell_type": "markdown",
   "metadata": {},
   "source": [
    "- Pro Tip: You could also just type `?str.center`"
   ]
  },
  {
   "cell_type": "markdown",
   "metadata": {},
   "source": [
    "Operators\n",
    "---\n",
    "\n",
    "- Binary arithmetic operators\n",
    "    - addition (+), subtraction (-), multiplication (\\*), division (/)\n",
    "    - floor division (//): quotient without fractional parts\n",
    "    - modulus (%): Integer remainder of quotient\n",
    "    - exponentiation (\\*\\*)\n",
    "- Precedence\n",
    "    - Just like in Mathematics order of operations which is obeyed and parentheses can be used to change the order\n",
    "\n",
    "#### Tasks:\n",
    "\n",
    "1. Define a variable `a` with some float value (i.e. with a decimal place) and `b` as some integer value\n",
    "2. Wrap the following in a print statement i.e. `print(<var1> <operator> <var2>)`, OR separate each task into their own cell\n",
    "    - Try all of the binary arithmetic operators between `a` and `b`\n",
    "    - Try all of the binary arithmetic operators between `a` and `a`\n",
    "    - Try all of the binary arithmetic operators between `b` and `b`"
   ]
  },
  {
   "cell_type": "code",
   "execution_count": null,
   "metadata": {
    "collapsed": true
   },
   "outputs": [],
   "source": []
  },
  {
   "cell_type": "code",
   "execution_count": null,
   "metadata": {
    "collapsed": true
   },
   "outputs": [],
   "source": []
  },
  {
   "cell_type": "code",
   "execution_count": null,
   "metadata": {
    "collapsed": true
   },
   "outputs": [],
   "source": []
  },
  {
   "cell_type": "code",
   "execution_count": null,
   "metadata": {
    "collapsed": true
   },
   "outputs": [],
   "source": []
  },
  {
   "cell_type": "code",
   "execution_count": null,
   "metadata": {
    "collapsed": true
   },
   "outputs": [],
   "source": []
  },
  {
   "cell_type": "markdown",
   "metadata": {},
   "source": [
    "### Notes\n",
    "\n",
    "- For the operations between `float` and `int`, the value which is returned is a `float`\n",
    "- For `int`-`int` operations, one result was promoted to a `float` (which one?)\n",
    "- It's important to understand that the returned types aren't necessarily what goes into the calculations!\n",
    "- Additionally, sometimes operations aren't smart enough to promote values and you end up with a result you didn't expect!"
   ]
  },
  {
   "cell_type": "markdown",
   "metadata": {},
   "source": [
    "Binary Operators with Assignment\n",
    "---\n",
    "\n",
    "- The binary operators can be combined with an `=` sign, i.e. `<variable> <operator>= <value>` is expanded to: `<variable> = <variable> <operator> <value>`\n",
    "\n",
    "#### Tasks\n",
    "\n",
    "1. Define a variable `a` equal to 2.0, use the multiplication assignment operator to return the area of a cirle if `a` was the radius i.e. $ \\pi r^2$\n",
    "    - First you need $\\pi$. Typing the below Python will bring `pi` into the notebook just like any other variable.\n",
    "```python\n",
    "from math import pi\n",
    "```"
   ]
  },
  {
   "cell_type": "code",
   "execution_count": null,
   "metadata": {
    "collapsed": true
   },
   "outputs": [],
   "source": []
  },
  {
   "cell_type": "markdown",
   "metadata": {},
   "source": [
    "Comparison Operators\n",
    "---\n",
    "\n",
    "- Comparison operators return Boolean values, i.e. `True` or `False`\n",
    "    - `a == b`: `a` equals `b`?\n",
    "    - `a != b`: `a` not equals `b`?\n",
    "    - `a >= b`: `a` greater than or equals `b`?\n",
    "    - `a < b`: `a` less than `b`?\n",
    "    \n",
    "#### Tasks\n",
    "\n",
    "Given, \"2 less than or equal to 1\" the corresponding code would be `2 <= 1`.\n",
    "\n",
    "1. Try to convert the following:\n",
    "    - 4 not equal 3\n",
    "    - 25 is odd (hint: what's 25 % 2, how about 20 % 2)\n",
    "    - 16 is not odd\n",
    "    - 13 is not even\n",
    "    - 20 is between 10 and 30"
   ]
  },
  {
   "cell_type": "code",
   "execution_count": null,
   "metadata": {
    "collapsed": true
   },
   "outputs": [],
   "source": []
  },
  {
   "cell_type": "code",
   "execution_count": null,
   "metadata": {
    "collapsed": true
   },
   "outputs": [],
   "source": []
  },
  {
   "cell_type": "code",
   "execution_count": null,
   "metadata": {
    "collapsed": true
   },
   "outputs": [],
   "source": []
  },
  {
   "cell_type": "code",
   "execution_count": null,
   "metadata": {
    "collapsed": true
   },
   "outputs": [],
   "source": []
  },
  {
   "cell_type": "code",
   "execution_count": null,
   "metadata": {
    "collapsed": true
   },
   "outputs": [],
   "source": []
  },
  {
   "cell_type": "markdown",
   "metadata": {},
   "source": [
    "Boolean Operators\n",
    "---\n",
    "\n",
    "- Compare Boolean values (`<bool>` can be `True` or `False`):\n",
    "    - `<bool> and <bool>`\n",
    "    - `<bool> or <bool>`\n",
    "    - `not <bool>`\n",
    "\n",
    "#### Tasks\n",
    "\n",
    "1. Can you determine what the keywords `and,or,not` do by making some comparisons?"
   ]
  },
  {
   "cell_type": "code",
   "execution_count": null,
   "metadata": {
    "collapsed": true
   },
   "outputs": [],
   "source": []
  },
  {
   "cell_type": "code",
   "execution_count": null,
   "metadata": {
    "collapsed": true
   },
   "outputs": [],
   "source": []
  },
  {
   "cell_type": "code",
   "execution_count": null,
   "metadata": {
    "collapsed": true
   },
   "outputs": [],
   "source": []
  },
  {
   "cell_type": "markdown",
   "metadata": {},
   "source": [
    "Boolean Operators Cont.\n",
    "---\n",
    "\n",
    "- Now that you have some documentation\n",
    "\n",
    "#### Tasks\n",
    "\n",
    "1. Evaluate the following expressions (without the interpreter!):\n",
    "    - `1 == 2 or 2 == 2`\n",
    "    - `1 == 2 and 2 == 2`\n",
    "    - `not 1 == 2 and 2 == 2`\n",
    "2. Enter the expressions, were you correct?    "
   ]
  },
  {
   "cell_type": "code",
   "execution_count": null,
   "metadata": {
    "collapsed": true
   },
   "outputs": [],
   "source": []
  },
  {
   "cell_type": "code",
   "execution_count": null,
   "metadata": {
    "collapsed": true
   },
   "outputs": [],
   "source": []
  },
  {
   "cell_type": "code",
   "execution_count": null,
   "metadata": {
    "collapsed": true
   },
   "outputs": [],
   "source": []
  },
  {
   "cell_type": "markdown",
   "metadata": {},
   "source": [
    "Data Structures (Containers)\n",
    "---\n",
    "\n",
    "- Lists (`list`):\n",
    "    - e.g. `[1, 2, 3]`\n",
    "- Tuple (`tuple`):\n",
    "    - e.g. `(1, 2, 3)`\n",
    "- Dictionary (`dict`):\n",
    "    - `<key>: <value>` store e.g. `{'a': 1, 'b': 2}`\n",
    "- Set (`set`)\n",
    "    - e.g. `{1, 2, 3}`\n",
    "    \n",
    "#### Definitions\n",
    "\n",
    "- Ordered:\n",
    "\n",
    "Consider a container called `a`, if the elements can be accessed using `[n]` syntax where `0 <= n < len(a)` the container is ordered.\n",
    "Let's consider the following code:\n",
    "\n",
    "```python\n",
    "a = [10, 9, 8]\n",
    "print(\"Length: {}\".format(len(a)))\n",
    "print(\"a[0] is: {}\".format(a[0]))\n",
    "```\n",
    "\n",
    "Above we access `a` with an _index_. The first element `10` is accessed with the index 0, e.g.\n",
    "\n",
    "```text\n",
    "list   [10, 9, 8]\n",
    "         ^  ^  ^\n",
    "index    0  1  2\n",
    "```\n",
    "\n",
    "As an example, try the following cell:"
   ]
  },
  {
   "cell_type": "code",
   "execution_count": null,
   "metadata": {
    "collapsed": true
   },
   "outputs": [],
   "source": [
    "a = [10, 9, 8]\n",
    "print(\"Length: {}\".format(len(a)))\n",
    "print(\"a[0] is: {}\".format(a[0]))"
   ]
  },
  {
   "cell_type": "markdown",
   "metadata": {},
   "source": [
    "`0` is in the range `0 <= n < len(a)` and I can access it, `a` is ordered.\n",
    "\n",
    "- Mutable:\n",
    "\n",
    "Consider a container called `a`, if the indexed item can be changed the container is mutable. As an example, try the following cell:"
   ]
  },
  {
   "cell_type": "code",
   "execution_count": null,
   "metadata": {
    "collapsed": true
   },
   "outputs": [],
   "source": [
    "a = [0]\n",
    "a[0] = 1\n",
    "print(\"a[0] is: {}\".format(a[0]))"
   ]
  },
  {
   "cell_type": "markdown",
   "metadata": {},
   "source": [
    "We know `a` is ordered, therefore I can access the elements. I can also change the elements which means `a` is mutable.\n",
    "\n",
    "#### Tasks\n",
    "\n",
    "1. Create a `list` called `a` which contains the numbers 4, 4, 8, and 12.\n",
    "    - Are `list`s ordered?\n",
    "    - Are they mutable?\n",
    "    - Try accessing the element `a[len(a)]`, why doesn't this work? How do you access the last element?\n",
    "2. Create a `tuple` called `b` which contains the number 2, 3, 4.\n",
    "    - Are `tuple`s ordered? mutable?\n",
    "    - When would you want to use a `tuple` over a `list`?\n",
    "3. Create a `dict` called `c` which contains the following key-value pairs `'one': 1`, `'three': 3`, `'five': 5`.\n",
    "    - Note: Dictionaries are accessed by their keys, e.g. `c['one']` would yield 1\n",
    "    - Are `dict`s ordered? mutable?\n",
    "4. Create a `set` called `d` using the same data as `a`\n",
    "    - Are `set`s ordered?\n",
    "    - Print `a` and `d`, what is the difference? What does this imply about `set`s\n",
    "    - Are they mutable?\n",
    "        - try adding an integer to the set with `<set>.add(<value>)`\n",
    "5. Keep the definitions of `a,b,c,d`, but comment any code which you used to test order and mutability. Rerun the cell"
   ]
  },
  {
   "cell_type": "code",
   "execution_count": null,
   "metadata": {
    "collapsed": true
   },
   "outputs": [],
   "source": []
  },
  {
   "cell_type": "code",
   "execution_count": null,
   "metadata": {
    "collapsed": true
   },
   "outputs": [],
   "source": []
  },
  {
   "cell_type": "code",
   "execution_count": null,
   "metadata": {
    "collapsed": true
   },
   "outputs": [],
   "source": []
  },
  {
   "cell_type": "code",
   "execution_count": null,
   "metadata": {
    "collapsed": true
   },
   "outputs": [],
   "source": []
  },
  {
   "cell_type": "code",
   "execution_count": null,
   "metadata": {
    "collapsed": true
   },
   "outputs": [],
   "source": []
  },
  {
   "cell_type": "markdown",
   "metadata": {},
   "source": [
    "- Pro tip: You can access the last element of a list with `<list>[-1]`"
   ]
  },
  {
   "cell_type": "markdown",
   "metadata": {},
   "source": [
    "Membership Operators\n",
    "---\n",
    "\n",
    "- Return `True` or `False` based on membership, e.g.\n",
    "\n",
    "``` python\n",
    "1 in [1, 2, 3] # evaluates to True\n",
    "0 in [4, 5, 6] # evaluates to False\n",
    "\n",
    "'key' in {'key': 'value'} # True\n",
    "'value' in {'key': 'value'} # False\n",
    "\n",
    "# by values:\n",
    "'value' in {'key': 'value'}.values() # True\n",
    "```"
   ]
  },
  {
   "cell_type": "markdown",
   "metadata": {},
   "source": [
    "Membership-based `for` Loops\n",
    "---\n",
    "\n",
    "#### Syntax\n",
    "\n",
    "```python\n",
    "for <temporary> in <iterable variable>:\n",
    "    # Do something with <temporary>, e.g.\n",
    "    print(<temporary>)\n",
    "```\n",
    "\n",
    "- An `iterable variable` could be a `list`, `set`, `dict`, etc.\n",
    "\n",
    "#### Tasks\n",
    "\n",
    "1. Write membership based `for` loops for `a`, `b`, `c`, and `d` which `print` the contents on a separate line\n",
    "    - Notice anything interesting?\n",
    "2. Use the `range` function to print the even integers from 2 to 20 (hint: `?range` will bring up documentation)\n",
    "    - Definitions: In mathematics, inclusivity (edges are included) is denoted with brackets `[]` and exclusivity (edges are not included) with parenthesis `()`\n",
    "    - Do all of the following: `[2, 20]`, `(2, 20)`, `[2, 20)`, `(2, 20]`\n",
    "    - What is the default in the above notation?"
   ]
  },
  {
   "cell_type": "code",
   "execution_count": null,
   "metadata": {
    "collapsed": true
   },
   "outputs": [],
   "source": []
  },
  {
   "cell_type": "code",
   "execution_count": null,
   "metadata": {
    "collapsed": true
   },
   "outputs": [],
   "source": []
  },
  {
   "cell_type": "code",
   "execution_count": null,
   "metadata": {
    "collapsed": true
   },
   "outputs": [],
   "source": []
  },
  {
   "cell_type": "code",
   "execution_count": null,
   "metadata": {
    "collapsed": true
   },
   "outputs": [],
   "source": []
  },
  {
   "cell_type": "markdown",
   "metadata": {},
   "source": [
    "Unpacking Complicated Data Structures\n",
    "---\n",
    "\n",
    "You probably noticed that your loop over the dictionary only printed the values. What if you wanted both keys and values?\n",
    "\n",
    "Python allows you to \"unpack\" dictionaries (using the method `items`) as well as list of lists, e.g.\n",
    "\n",
    "```python\n",
    "for key, value in {'cordon0': \"GTG\", 'cordon1': \"ATG\"}.items():\n",
    "    print(\"{}: {}\".format(key, value))\n",
    "```\n",
    "\n",
    "or,\n",
    "\n",
    "```python\n",
    "for i, j in [[\"AAA\", \"AGA\"], [\"GTA\", \"GGT\"]]:\n",
    "    print(\"{} {}\".format(i, j))\n",
    "```\n",
    "\n",
    "#### Tasks\n",
    "\n",
    "1. Write a membership based for loop to print the keys and values of the following dictionary: `{\"seq001\": \"AAGTAGGAATAATATCTTATCATTATAGATAAAAACCTTCTGAATTTGCTTAGTGTGTATACGACTAGACATATATCAGCTCGCCGATTATTTGGATTATTCCCTG\", \"seq002\": \"CTTCAATTACCCTGCTGACGCGAGATACCTTATGCATCGAAGGTAAAGCGATGAATTTATCCAAGGTTTTAATTTG\"}`\n",
    "2. Generate the following list of list: `[[\"ATC\", \"GAT\"], [\"CTT\", \"GTT\"], [\"TTG\", \"TCG\"]]`. Write a membership based for loop which adds the codons, e.g. \"ATC\" + \"GAT\" = \"ATCGAT\""
   ]
  },
  {
   "cell_type": "code",
   "execution_count": null,
   "metadata": {
    "collapsed": true
   },
   "outputs": [],
   "source": []
  },
  {
   "cell_type": "code",
   "execution_count": null,
   "metadata": {
    "collapsed": true
   },
   "outputs": [],
   "source": []
  },
  {
   "cell_type": "markdown",
   "metadata": {},
   "source": [
    "Flow Control\n",
    "---\n",
    "\n",
    "1. Conditional Statements (`if-elif-else`)\n",
    "    - Use comparison operators and boolean operators which, when evaluate to true, runs some block of code.\n",
    "    - `elif` stands for `else if`\n",
    "  \n",
    "#### Tasks:\n",
    "\n",
    "```python\n",
    "x = 12\n",
    "\n",
    "if x == 0:\n",
    "    print(\"{} is zero\".format(x))\n",
    "elif x > 0:\n",
    "    print(\"{} is negative\".format(x))\n",
    "elif x > 0:\n",
    "    print(\"{} is positive\".format(x))\n",
    "else:\n",
    "    print(\"I don't recognize {}\".format(x))\n",
    "```\n",
    "\n",
    "1. Given the code above, what do you think is printed?\n",
    "2. Copy and paste the code into the cell below, what is actually printed? Why?\n",
    "3. Will the `else` block ever trigger?"
   ]
  },
  {
   "cell_type": "code",
   "execution_count": null,
   "metadata": {
    "collapsed": true
   },
   "outputs": [],
   "source": []
  },
  {
   "cell_type": "markdown",
   "metadata": {},
   "source": [
    "#### Bugs vs Errors\n",
    "\n",
    "- \"Bugs\" are unintended consquences of running code. For example, the original code tells us that 12 is negative\n",
    "- \"Errors\" are produced by the interpreter because something can't be completed\n",
    "\n",
    "#### Tasks\n",
    "\n",
    "1. Fix the bug to print whether a number is positive, negative, or zero"
   ]
  },
  {
   "cell_type": "code",
   "execution_count": null,
   "metadata": {
    "collapsed": true
   },
   "outputs": [],
   "source": []
  },
  {
   "cell_type": "markdown",
   "metadata": {},
   "source": [
    "- Unfortunately, we don't have time to talk about error handling now. Check out this documentation at a later time: https://docs.python.org/3/tutorial/errors.html."
   ]
  },
  {
   "cell_type": "markdown",
   "metadata": {},
   "source": [
    "Functions\n",
    "---\n",
    "\n",
    "Let's start with a definition for a function which squares the input:\n",
    "\n",
    "```python\n",
    "def double_codon(x):\n",
    "    return x + x\n",
    "```\n",
    "\n",
    "Notes:\n",
    "\n",
    "- `def` is the start of the function definition\n",
    "- `double_codon` is the name of the function. Example use: `a = double_codon(\"AAA\")`\n",
    "- `return` passes back information to the caller of the function (i.e. `a` above is `\"AAAAAA\"`)\n",
    "- Functions don't have to return anything (behind the scenes they return `None`)\n",
    "- When the interpreter evaluates a `return` it will ignore anything else in the function\n",
    "- Meaningful function names help you \n",
    "\n",
    "#### Tasks\n",
    "\n",
    "1. Verify that a function without a `return` statement returns `None`\n",
    "2. Verify that a function with multiple `return` statements only returns the first instance\n",
    "3. Write the definition of a `triple_codon` function and apply it to the codon `\"AGT\"`\n",
    "4. Write the definition of `codon_is_in_sequence`, it will take 2 parameters! Hint\" Try: `\"A\" in \"AAA\"`\n",
    "    - Given the sequence: `\"CTTCAATTACCCTGCTGACGCGAGATACCTTATGCATCGAAGGTAAAGCGATGAATTTATCCAAGGTTTTAATTTG\"`, use your function to determine if it contains the following codons:\n",
    "        - `\"AAT\"`\n",
    "        - `\"GGG\"`"
   ]
  },
  {
   "cell_type": "code",
   "execution_count": null,
   "metadata": {
    "collapsed": true
   },
   "outputs": [],
   "source": []
  },
  {
   "cell_type": "code",
   "execution_count": null,
   "metadata": {
    "collapsed": true
   },
   "outputs": [],
   "source": []
  },
  {
   "cell_type": "code",
   "execution_count": null,
   "metadata": {
    "collapsed": true
   },
   "outputs": [],
   "source": []
  },
  {
   "cell_type": "code",
   "execution_count": null,
   "metadata": {
    "collapsed": true
   },
   "outputs": [],
   "source": []
  },
  {
   "cell_type": "code",
   "execution_count": null,
   "metadata": {
    "collapsed": true
   },
   "outputs": [],
   "source": []
  },
  {
   "cell_type": "markdown",
   "metadata": {},
   "source": [
    "Anonymous Functions\n",
    "---\n",
    "\n",
    "These are unnamed functions which are referred to as \"syntactic sugar\". You will see this term a lot. It means that the code is translated into a more verbose form by the interpreter, therefore:\n",
    "\n",
    "```\n",
    "double_cordon = lambda x: x + x\n",
    "```\n",
    "\n",
    "Is exactly equivalent to the `double_cordon` function we wrote before, but in a more compact syntax. Note that we did name our `lambda`, but this isn't necessary. We will see examples of unnamed lambdas in later sections.\n",
    "\n",
    "#### Tasks\n",
    "\n",
    "1. Write a lambda for the `triple_cordon` function\n",
    "2. Write a lambda for a `squared` function\n",
    "3. Do you have to input a cordon into the `triple_cordon` lambda?"
   ]
  },
  {
   "cell_type": "code",
   "execution_count": null,
   "metadata": {},
   "outputs": [],
   "source": []
  },
  {
   "cell_type": "code",
   "execution_count": null,
   "metadata": {
    "collapsed": true
   },
   "outputs": [],
   "source": []
  },
  {
   "cell_type": "code",
   "execution_count": null,
   "metadata": {
    "collapsed": true
   },
   "outputs": [],
   "source": []
  },
  {
   "cell_type": "markdown",
   "metadata": {},
   "source": [
    "Iterators\n",
    "---\n",
    "\n",
    "Previously, I called `for value in iterator` a membership based for loop. However, I didn't explain the `iterator` part at all. Some iterators, operate a little differently. For example, `range` doesn't actually build a `list` in memory even though it looked very similar to our `for value in list` example previously. Instead a `range` operates in \"constant stack space\", i.e. the space it occupies in memory never changes. For example,\n",
    "\n",
    "```python\n",
    "n = 10 ** 12 # a really huge number\n",
    "x = range(n)\n",
    "```\n",
    "\n",
    "If the above code did build the entire `x` object to store all of the numbers from 0 to `10 ** 12` it wouldn't fit into RAM, but iterators are smart and only allocate what they actually need.\n",
    "\n",
    "Other iterators:\n",
    "\n",
    "- `enumerate`, e.g.\n",
    "\n",
    "```python\n",
    "L = [\"AAA\", \"AGA\", \"CGT\", \"GGG\"]\n",
    "for index in range(len(L)):\n",
    "    print(index, L[index])\n",
    "    \n",
    "for index, item in enumerate(L):\n",
    "    print(index, item)\n",
    "```\n",
    "\n",
    "- `zip`:\n",
    "\n",
    "```python\n",
    "L = [\"AGT\", \"AGC\", \"ACT\"]\n",
    "R = [3, 6, 9]\n",
    "for l, r in zip(L, R):\n",
    "    print(l + r)\n",
    "```\n",
    "\n",
    "- `map`:\n",
    "\n",
    "```python\n",
    "for doubles in map(lambda x: x + x, [\"AAA\", \"GGG\", \"CCC\", \"TTT\"]):\n",
    "    print(doubles)\n",
    "```\n",
    "\n",
    "- `filter`:\n",
    "\n",
    "```python\n",
    "for with_a in filter(lambda x: 'A' in x, [\"AGT\", \"CTC\", \"TCA\"]):\n",
    "    print(with_a)\n",
    "```\n",
    "\n",
    "#### Tasks\n",
    "\n",
    "1. Use `enumerate` to print the index and value of the list of cordons: `[\"GAT\", \"GAA\", \"TTT\", \"ATC\"]`. Preface the index with \"cordon\".\n",
    "2. Use `enumerate` and `zip` to sum the two lists into a new list `c`:\n",
    "    - `a = [\"TAC\", \"CCT\", \"GCT\"]`\n",
    "    - `b = [\"GAC\", \"GCG\", \"CAT\"]`\n",
    "    - Initialize `c = [None] * len(a)`\n",
    "    - Try `list(enumerate(zip(a, b)))` to see the shape of what to unpack\n",
    "3. Use `map` to print the doubles of the triples of the cordons `[\"GAC\", \"GCG\", \"CAT\"]` using only anonymous functions\n",
    "4. Use `filter` to print the doubles of cordons (same as in \"3.\") containing the base pair `'C'` using only anonymous functions"
   ]
  },
  {
   "cell_type": "code",
   "execution_count": null,
   "metadata": {
    "collapsed": true
   },
   "outputs": [],
   "source": []
  },
  {
   "cell_type": "code",
   "execution_count": null,
   "metadata": {
    "collapsed": true
   },
   "outputs": [],
   "source": []
  },
  {
   "cell_type": "code",
   "execution_count": null,
   "metadata": {
    "collapsed": true
   },
   "outputs": [],
   "source": []
  },
  {
   "cell_type": "code",
   "execution_count": null,
   "metadata": {
    "collapsed": true
   },
   "outputs": [],
   "source": []
  },
  {
   "cell_type": "markdown",
   "metadata": {},
   "source": [
    "Comprehensions\n",
    "---\n",
    "\n",
    "In \"2.\" of the previous question we had to build a list prior to the loop. We could have also used `c = []` and `c.append(x + y)`, but note that `append` is an extremely slow function. Python also provides some syntactic sugar for this case, e.g.\n",
    "\n",
    "```python\n",
    "a = [\"TAC\", \"CCT\", \"GCT\"]\n",
    "b = [\"GAC\", \"GCG\", \"CAT\"]\n",
    "c = [x + y for x, y in zip(a, b)]\n",
    "```\n",
    "\n",
    "This is extremely terse and readable. This is called a \"List Comprehension\" and is probably my favorite Python feature. You can also append filter clauses! e.g.\n",
    "\n",
    "```python\n",
    "a = [\"TAC\", \"CCT\", \"GCT\"]\n",
    "b = [\"GAC\", \"GCG\", \"CAT\"]\n",
    "c = [x + y for x, y in zip(a, b) if 'C' in x]\n",
    "```\n",
    "\n",
    "There are also dictionary comprehensions! e.g.\n",
    "\n",
    "```python\n",
    "cordons_dict = {\"cordon0\": \"AAA\", \"cordon1\": \"GGG\", \"cordon2\": \"CCC\"}\n",
    "double_cordons_dict = {k: v + v for k, v in cordons_dict.items()}\n",
    "\n",
    "# or\n",
    "\n",
    "labels = [\"seq0\", \"seq1\", \"seq2\"]\n",
    "seqs = [\"TAGGTGTGC\", \"ACGTTAACC\", \"TACTAGTCA\"]\n",
    "seq_dict = {k: v for k, v in zip(labels, seqs)}\n",
    "```\n",
    "\n",
    "#### Tasks\n",
    "\n",
    "1. Using the `labels` and `seqs`, create the following dictionaries:\n",
    "    - keys: `labels`, values: `seqs`, only if the `seqs` contain the cordon `\"TAG\"`\n",
    "    - keys: `labels`, values: `seqs`, where `seqs` are split into a list of base pairs. Hint: try `list(\"HELLO\")`"
   ]
  },
  {
   "cell_type": "code",
   "execution_count": null,
   "metadata": {
    "collapsed": true
   },
   "outputs": [],
   "source": []
  },
  {
   "cell_type": "code",
   "execution_count": null,
   "metadata": {
    "collapsed": true
   },
   "outputs": [],
   "source": []
  },
  {
   "cell_type": "code",
   "execution_count": null,
   "metadata": {
    "collapsed": true
   },
   "outputs": [],
   "source": []
  },
  {
   "cell_type": "code",
   "execution_count": null,
   "metadata": {
    "collapsed": true
   },
   "outputs": [],
   "source": []
  },
  {
   "cell_type": "markdown",
   "metadata": {},
   "source": [
    "Modules and Packages\n",
    "---\n",
    "\n",
    "Python has a rich ecosystem of packages for all kinds of research domains!\n",
    "\n",
    "- Syntax variants\n",
    "``` python\n",
    "import <package>\n",
    "from <package> import <member>\n",
    "```\n",
    "- Nice feature about Jupyter Notebooks is that they autcomplete member names\n",
    "\n",
    "#### Tasks\n",
    "\n",
    "1. Try to import just the `sub` method from the `re` module."
   ]
  },
  {
   "cell_type": "code",
   "execution_count": null,
   "metadata": {
    "collapsed": true
   },
   "outputs": [],
   "source": []
  },
  {
   "cell_type": "markdown",
   "metadata": {},
   "source": [
    "Reading and Writing Files\n",
    "---\n",
    "\n",
    "Turns out, we can use `open` to generate a file iterator. We can work on a file line by line and generate just the content into a list in memory (`strip` removes the newline character):\n",
    "\n",
    "```python\n",
    "with open(<filename>, \"r\") as f:\n",
    "    lines = [line.strip() for line in f]\n",
    "```\n",
    "\n",
    "or, maybe you need process each line and write a new file (by default `'w'` overwrites the file):\n",
    "\n",
    "```python\n",
    "with open(<input_file>, \"r\") as inp, open(<output_file>, 'w') as out:\n",
    "    for line in inp:\n",
    "        out.write(<modify line in some way>) # Write doesn't append a newline automatically, therefore you may need to write a newline\n",
    "        out.write('\\n') # Or, on one line: f.write(\"{}\\n\".format(<modify line in some way>))\n",
    "```\n",
    "\n",
    "To append to a file use `open(<filename>, 'a')`."
   ]
  },
  {
   "cell_type": "markdown",
   "metadata": {},
   "source": [
    "Project 1\n",
    "---\n",
    "\n",
    "#### Description\n",
    "\n",
    "Given a file of cordons (`cordons.csv`), for example:\n",
    "\n",
    "```text\n",
    "AAA, GGG, CCC, ...\n",
    "TTT, AAA, GGG,\n",
    "...\n",
    "```\n",
    "\n",
    "Generate:\n",
    "\n",
    "1. A new file (`subsequences.txt`) combining all cordons in each line into a subsequence\n",
    "2. A new file (`sequence.txt`) combining all of the lines in `subsequences.txt` on one line\n",
    "\n",
    "Determine:\n",
    "\n",
    "1. How many of each base pair ('A', 'G', 'C', 'T') in this sequence?\n",
    "2. What are the unique set of cordons which make up this sequence?\n",
    "3. What is the longest chain of repeating characters?\n",
    "\n",
    "Hints:\n",
    "\n",
    "- Reminder: `<str>.replace(<this>, <with_this>)`\n",
    "- Try: `\"ACT,GTC\".split(\",\")`\n",
    "- Try: `''.join([\"ACT\", \"GTC\"])`\n",
    "- Try:\n",
    "```python\n",
    "from itertools import groupby\n",
    "[list(g) for k, g in groupby(sorted(\"AAAGTCAA\"))]\n",
    "[list(g) for k, g in groupby(\"AAAGTCAA\")]\n",
    "```"
   ]
  },
  {
   "cell_type": "code",
   "execution_count": null,
   "metadata": {
    "collapsed": true
   },
   "outputs": [],
   "source": []
  },
  {
   "cell_type": "code",
   "execution_count": null,
   "metadata": {
    "collapsed": true
   },
   "outputs": [],
   "source": []
  },
  {
   "cell_type": "code",
   "execution_count": null,
   "metadata": {
    "collapsed": true
   },
   "outputs": [],
   "source": []
  },
  {
   "cell_type": "code",
   "execution_count": null,
   "metadata": {},
   "outputs": [],
   "source": []
  },
  {
   "cell_type": "code",
   "execution_count": null,
   "metadata": {},
   "outputs": [],
   "source": []
  },
  {
   "cell_type": "markdown",
   "metadata": {},
   "source": [
    "#### Additional Resources\n",
    "\n",
    "1. Me! Don't hesitate to email me (bmooreii@pitt.edu) and we can make an appointment\n",
    "2. This workshop is losely modeled after [World Wind Tour](http://nbviewer.jupyter.org/github/jakevdp/WhirlwindTourOfPython/blob/master/Index.ipynb)\n",
    "3. [Stack Overflow](https://stackoverflow.com). If you \"Google it\" it is probably coming from Stack Overlow. Pro tip, search for: `python <search phrase>`\n",
    "\n",
    "#### [Python Docs](https://docs.python.org/3/library/index.html)\n",
    "\n",
    "#### Useful Python Packages\n",
    "\n",
    "1. [docopt](http://docopt.org) - command line arguments (not helpful in a Jupyter Notebook)\n",
    "2. [pandas](http://pandas.pydata.org) - great for processing data\n",
    "3. [matplotlib](https://matplotlib.org) - plotting tool, can view inside Jupyter Notebooks!\n",
    "4. [requests](http://docs.python-requests.org/en/master) - HTTP Requests\n",
    "5. [numba](https://numba.pydata.org) - just-in-time compilation for Python\n",
    "6. [subprocess](https://docs.python.org/3/library/subprocess.html) - run external commands\n",
    "\n",
    "#### Quick Survey"
   ]
  },
  {
   "cell_type": "code",
   "execution_count": null,
   "metadata": {},
   "outputs": [],
   "source": [
    "from IPython.display import IFrame\n",
    "IFrame(\"\", width=760, height=500)"
   ]
  },
  {
   "cell_type": "code",
   "execution_count": null,
   "metadata": {
    "collapsed": true
   },
   "outputs": [],
   "source": []
  }
 ],
 "metadata": {
  "kernelspec": {
   "display_name": "Python 3",
   "language": "python",
   "name": "python3"
  },
  "language_info": {
   "codemirror_mode": {
    "name": "ipython",
    "version": 3
   },
   "file_extension": ".py",
   "mimetype": "text/x-python",
   "name": "python",
   "nbconvert_exporter": "python",
   "pygments_lexer": "ipython3",
   "version": "3.6.5"
  }
 },
 "nbformat": 4,
 "nbformat_minor": 2
}
