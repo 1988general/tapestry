{
 "cells": [
  {
   "cell_type": "markdown",
   "metadata": {},
   "source": [
    "Welcome to a Guided Tour of Python Through Jupyter!\n",
    "---\n",
    "\n",
    "#### Who Am I?\n",
    "\n",
    "- Barry Moore II, PhD\n",
    "    - Theoretical Chemist\n",
    "    - Twitter: @BarryMooreII\n",
    "    - GitHub: @barrymoo\n",
    "    - Website: https://www.barry-moore-ii.com\n",
    "- Center for Research Computing\n",
    "    - Advanced Research Computing Team at Pitt\n",
    "    - 6400 Cores\n",
    "    - 62 GPUs (GTX1080, TitanX, K40)\n",
    "\n",
    "#### Initial Steps\n",
    "\n",
    "- In your browser navigate to https://hub.crc.pitt.edu\n",
    "- If you don't see this Notebook. Get this notebook\n",
    "    - First open up a Terminal via. New -> Terminal\n",
    "    - Type `cp ~bmooreii/Guided<tab> .` **CHANGE!!!!**\n",
    "    - Click the Jupyter symbol in top left\n",
    "    - Open the notebook by clicking on it\n",
    "    \n",
    "#### Jupyter and Jupyter Hub    \n",
    "    \n",
    "- What is JupyterHub?\n",
    "    - Multi-user server for Jupyter notebooks running on Pitt's Advanced Research Computer H2P\n",
    "- What is Jupyter?\n",
    "> The Jupyter Notebook is an open-source web application that allows you to create and share documents that contain live code, equations, visualizations and explanatory text. Uses include: data cleaning and transformation, numerical simulation, statistical modeling, machine learning and much more.\n",
    "\n",
    "    - Note: Jupyter is not just for Python notebooks, but today we are learning Python\n",
    "    \n",
    "#### Python\n",
    "\n",
    "- Interpreted Programming Language\n",
    "- Two versions:\n",
    "    - Python 2.7\n",
    "    - Python 3.6 (use this one whenever possible)\n",
    "    \n",
    "#### Why Jupyter + Python?\n",
    "\n",
    "- Allows you to weave code and documentation seamlessly\n",
    "- Allows you to share your notebooks online (e.g. on git)\n",
    "- Allows you to explore and play with data on the fly\n",
    "    - No need to continually edit, save, run\n",
    "    \n",
    "#### User Interface\n",
    "\n",
    "- Drop down menus\n",
    "- Tool bar\n",
    "- Keyboard shortcuts"
   ]
  },
  {
   "cell_type": "markdown",
   "metadata": {},
   "source": [
    "Working with Cells\n",
    "---\n",
    "\n",
    "Basically 2 types:\n",
    "\n",
    "1. Markdown:\n",
    "    - A simple language which converts to HTML\n",
    "    - Jupyter Docs: http://jupyter-notebook.readthedocs.io/en/latest/examples/Notebook/Working%20With%20Markdown%20Cells.html\n",
    "    - Daring Fireball Docs: https://daringfireball.net/projects/markdown/syntax\n",
    "    - Use these to document your work\n",
    "    - Write equations using $\\LaTeX$: $ \\frac{1}{N}\\Sigma_i n_i $, or on it's own line:\n",
    "$$ \\frac{1}{N}\\Sigma_i n_i $$\n",
    "    - Write code: `x = 1`, or highlighted on it's own line:\n",
    "```python\n",
    "x = 1\n",
    "```\n",
    "1. Code:\n",
    "    - Where your code actually runs\n",
    "    \n",
    "### How do you work with them:\n",
    "\n",
    "- Run them by typing:\n",
    "    - `<Shift-Enter>` - Run cell, go to next line\n",
    "    - `<Ctrl-Enter>` - Run cell, but stay in current cell\n",
    "- Create new ones:\n",
    "    - Above current cell: `<Esc-a>`\n",
    "    - Below current cell: `<Esc-b>`"
   ]
  },
  {
   "cell_type": "code",
   "execution_count": null,
   "metadata": {
    "collapsed": true
   },
   "outputs": [],
   "source": [
    "x = 1\n",
    "print(x)"
   ]
  },
  {
   "cell_type": "markdown",
   "metadata": {},
   "source": [
    "Active Learning Exercises\n",
    "---\n",
    "\n",
    "- Each section will have some introductory text followed by some tasks to reinforce the section\n",
    "- __DO NOT WORRY__\n",
    "    - We are here to help!\n",
    "    - If you don't finish or need extra help email me! (bmooreii@pitt.edu)"
   ]
  },
  {
   "cell_type": "markdown",
   "metadata": {},
   "source": [
    "What is your experience with programming?\n",
    "---\n",
    "\n",
    "1. [Beginner](Beginner.ipynb): I have never written code or don't feel comfortable writing code\n",
    "2. [Intermediate](Intermediate.ipynb): I have written some code, but not Python\n",
    "3. [Advanced](Advanced.ipynb): I have written Python code before"
   ]
  }
 ],
 "metadata": {
  "kernelspec": {
   "display_name": "Python 3",
   "language": "python",
   "name": "python3"
  },
  "language_info": {
   "codemirror_mode": {
    "name": "ipython",
    "version": 3
   },
   "file_extension": ".py",
   "mimetype": "text/x-python",
   "name": "python",
   "nbconvert_exporter": "python",
   "pygments_lexer": "ipython3",
   "version": "3.5.3"
  }
 },
 "nbformat": 4,
 "nbformat_minor": 2
}
