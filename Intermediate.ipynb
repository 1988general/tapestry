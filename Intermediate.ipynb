{
 "cells": [
  {
   "cell_type": "markdown",
   "metadata": {},
   "source": [
    "Helper Syntax\n",
    "---\n",
    "\n",
    "In my notes and questions, you will come across some syntax you should be aware of:\n",
    "\n",
    "1. `<Shift-Enter>`: This is a keystroke. Hold `Shift`, press `Enter`. Keys will always be capitalized (i.e. `<Tab>` means press `Tab`)\n",
    "2. `<var1> <operator> <var2>`: This means I want you to enter something, or I am demonstrating a pattern.\n",
    "    - In this case, I am showing a binary operator (e.g. multiplication) between 2 variables `var1,var2`"
   ]
  },
  {
   "cell_type": "markdown",
   "metadata": {},
   "source": [
    "Python Syntax\n",
    "---"
   ]
  },
  {
   "cell_type": "markdown",
   "metadata": {},
   "source": [
    "Comments\n",
    "---\n",
    "\n",
    "Lines beginning with `#` are completely ignored. Everything after `#` is ignored. Comments help increase the readability of code. In Jupyter, you can highlight blocks of code with the mouse and type `<Ctrl-l>` to comment or uncomment blocks of code."
   ]
  },
  {
   "cell_type": "code",
   "execution_count": null,
   "metadata": {
    "collapsed": true
   },
   "outputs": [],
   "source": [
    "# print(1)\n",
    "print(1) # this line will print 1"
   ]
  },
  {
   "cell_type": "markdown",
   "metadata": {},
   "source": [
    "Whitespace\n",
    "---\n",
    "\n",
    "In Python, and unlike many programming languages, whitespace is important! Try running the following cell:"
   ]
  },
  {
   "cell_type": "code",
   "execution_count": null,
   "metadata": {
    "collapsed": true
   },
   "outputs": [],
   "source": [
    "print(\"hello\")\n",
    " print(\"world\")"
   ]
  },
  {
   "cell_type": "markdown",
   "metadata": {},
   "source": [
    "Indentation\n",
    "---\n",
    "\n",
    "In this case, you have 2 options:"
   ]
  },
  {
   "cell_type": "code",
   "execution_count": null,
   "metadata": {
    "collapsed": true
   },
   "outputs": [],
   "source": [
    " print(\"hello\")\n",
    " print(\"world\")"
   ]
  },
  {
   "cell_type": "code",
   "execution_count": null,
   "metadata": {
    "collapsed": true
   },
   "outputs": [],
   "source": [
    "print(\"hello\")\n",
    "print(\"world\") "
   ]
  },
  {
   "cell_type": "markdown",
   "metadata": {},
   "source": [
    "Notes\n",
    "---\n",
    "\n",
    "```python\n",
    "print(\"hello\")\n",
    "print(\"world\")\n",
    "```\n",
    "\n",
    "The above is called a _block_ of code. All blocks must share the same indentation. Although you **can** put spaces in front of both lines and the code runs, it is strongly discouraged!\n",
    "\n",
    "- Rules of thumb:\n",
    "    - code blocks shouldn't have any leading space.\n",
    "    - nested code blocks should be indented by 4 spaces (we'll look at nested blocks later)    "
   ]
  },
  {
   "cell_type": "markdown",
   "metadata": {},
   "source": [
    "Documentation\n",
    "---\n",
    "\n",
    "By now, you probably realize what `print` is doing. However, if you aren't sure Jupyter, has built in documentation! Run this cell:"
   ]
  },
  {
   "cell_type": "code",
   "execution_count": null,
   "metadata": {
    "collapsed": true
   },
   "outputs": [],
   "source": [
    "?print"
   ]
  },
  {
   "cell_type": "markdown",
   "metadata": {},
   "source": [
    "If you can't get the documentation from Jupyter:\n",
    "\n",
    "1. Google it with string: \"python <thing you are looking for>\", places you might end up:\n",
    "    - [Stack Overflow](https://stackoverflow.com) - Best place for programming questions\n",
    "    - [Python Documentation](https://docs.python.org/3) - Good place for Python"
   ]
  },
  {
   "cell_type": "markdown",
   "metadata": {},
   "source": [
    "Notes\n",
    "---\n",
    "\n",
    "- At the bottom you should see: `Type: builtin_function_or_method`\n",
    "    - We'll come back to functions and methods later. First, we should discuss types"
   ]
  },
  {
   "cell_type": "markdown",
   "metadata": {},
   "source": [
    "Variables and Types\n",
    "---\n",
    "\n",
    "- Defining variables is as simple as using the assignment operator `<name> =`\n",
    "- Determine the type of the object with `type(<object>)`\n",
    "- You can write to output using `print(<something>)`\n",
    "- Write commands on seperate lines:"
   ]
  },
  {
   "cell_type": "code",
   "execution_count": null,
   "metadata": {
    "collapsed": true
   },
   "outputs": [],
   "source": [
    "x = 1\n",
    "print(x)"
   ]
  },
  {
   "cell_type": "markdown",
   "metadata": {},
   "source": [
    "Notes about Printing Variables\n",
    "---\n",
    "\n",
    "There are 3 primary ways to print to output in Python (demonstrated above).\n",
    "\n",
    "1. `print(<something>, <other>)`: separate variables by commas\n",
    "2. `print(\"{} {}\".format(<something>, <other>)`: formatted print (this is my preferred style)\n",
    "3. Jupyter specific: The final line of a cell will print whatever it returned. In the above code cell you could have wrote the below (note the difference from above!):"
   ]
  },
  {
   "cell_type": "code",
   "execution_count": null,
   "metadata": {
    "collapsed": true
   },
   "outputs": [],
   "source": [
    "x = 1\n",
    "x"
   ]
  },
  {
   "cell_type": "markdown",
   "metadata": {},
   "source": [
    "#### Tasks:\n",
    "\n",
    "1. Define a variable called `x` equal to `1`, print `x` and the type of `x`\n",
    "2. Define a variable called `y` equal to `\"a\"`, print `y` and the type of `y`\n",
    "3. Define a variable called `z` equal to `1.0`, print `z` and the type of `z`\n",
    "4. Define a variable called `b` equal to `True`, print `b` and the type of `b`\n",
    "5. Try the different style of `print` statements"
   ]
  },
  {
   "cell_type": "code",
   "execution_count": null,
   "metadata": {
    "collapsed": true
   },
   "outputs": [],
   "source": []
  },
  {
   "cell_type": "code",
   "execution_count": null,
   "metadata": {
    "collapsed": true
   },
   "outputs": [],
   "source": []
  },
  {
   "cell_type": "code",
   "execution_count": null,
   "metadata": {
    "collapsed": true
   },
   "outputs": [],
   "source": []
  },
  {
   "cell_type": "markdown",
   "metadata": {},
   "source": [
    "### Notes\n",
    "\n",
    "- Objects:\n",
    "    - Everything in python is an object\n",
    "    - Objects are composed of methods which can be accessed using `.`\n",
    "        - i.e. `format` is called a method of the `str` (string) object\n",
    "        - You can see all of the methods of `str`:\n",
    "            - Visit the documentation: [String Methods](https://docs.python.org/3/library/stdtypes.html#string-methods)\n",
    "            - Or, type `y.<Tab>` to see the names, many are self explanatory\n",
    "- Variables persist between cells, i.e. `x` should still return `1`. Does it?   "
   ]
  },
  {
   "cell_type": "markdown",
   "metadata": {},
   "source": [
    "How would I figure out what a method does?\n",
    "---\n",
    "\n",
    "Guided Example:\n",
    "\n",
    "- Let's try to figure out what the `center` method does. Run the cells below:"
   ]
  },
  {
   "cell_type": "code",
   "execution_count": null,
   "metadata": {
    "collapsed": true
   },
   "outputs": [],
   "source": [
    "y.center()"
   ]
  },
  {
   "cell_type": "markdown",
   "metadata": {},
   "source": [
    "- Okay, `center` expects at least one argument. We don't know what it is. Maybe it centers one string within another?"
   ]
  },
  {
   "cell_type": "code",
   "execution_count": null,
   "metadata": {
    "collapsed": true
   },
   "outputs": [],
   "source": [
    "y.center(\"I am a string\")"
   ]
  },
  {
   "cell_type": "markdown",
   "metadata": {},
   "source": [
    "- Interesting, the function takes an integer."
   ]
  },
  {
   "cell_type": "code",
   "execution_count": null,
   "metadata": {
    "collapsed": true
   },
   "outputs": [],
   "source": [
    "y.center(10)"
   ]
  },
  {
   "cell_type": "markdown",
   "metadata": {},
   "source": [
    "- Cool, we figured out what the `center` method does by listening to the interpreter!\n",
    "- If you get one thing from this workshop, it should be that the interpreter is your friend!\n",
    "\n",
    "#### Tasks\n",
    "\n",
    "1. Try some of the methods of `y`. i.e. `y.<Tab>` or choose some from https://docs.python.org/3/library/stdtypes.html#string-methods"
   ]
  },
  {
   "cell_type": "code",
   "execution_count": null,
   "metadata": {
    "collapsed": true
   },
   "outputs": [],
   "source": []
  },
  {
   "cell_type": "code",
   "execution_count": null,
   "metadata": {
    "collapsed": true
   },
   "outputs": [],
   "source": []
  },
  {
   "cell_type": "code",
   "execution_count": null,
   "metadata": {
    "collapsed": true
   },
   "outputs": [],
   "source": []
  },
  {
   "cell_type": "code",
   "execution_count": null,
   "metadata": {
    "collapsed": true
   },
   "outputs": [],
   "source": []
  },
  {
   "cell_type": "markdown",
   "metadata": {},
   "source": [
    "- Pro Tip: You could also just type `?str.center`"
   ]
  },
  {
   "cell_type": "markdown",
   "metadata": {},
   "source": [
    "Operators\n",
    "---\n",
    "\n",
    "**We'll skip \"Tasks\" for this section because you have done some programming**\n",
    "\n",
    "- Binary arithmetic operators\n",
    "    - addition (+), subtraction (-), multiplication (\\*), division (/)\n",
    "    - floor division (//): quotient without fractional parts\n",
    "    - modulus (%): Integer remainder of quotient\n",
    "    - exponentiation (\\*\\*)\n",
    "- Precedence\n",
    "    - Just like in Mathematics order of operations which is obeyed and parentheses can be used to change the order\n",
    "    \n",
    "### Notes\n",
    "\n",
    "- For the operations between `float` and `int`, the value which is returned is a `float`\n",
    "- For `int`-`int` operations, one result was promoted to a `float` (which one?)\n",
    "- It's important to understand that the returned types aren't necessarily what goes into the calculations!\n",
    "- Additionally, sometimes operations aren't smart enough to promote values and you end up with a result you didn't expect\n",
    "\n",
    "Binary Operators with Assignment\n",
    "---\n",
    "\n",
    "- The binary operators can be combined with an `=` sign, i.e. `<variable> <operator>= <value>` is expanded to: `<variable> = <variable> <operator> <value>`\n",
    "\n",
    "Comparison Operators\n",
    "---\n",
    "\n",
    "- Comparison operators return Boolean values, i.e. `True` or `False`\n",
    "    - `a == b`: `a` equals `b`?\n",
    "    - `a != b`: `a` not equals `b`?\n",
    "    - `a >= b`: `a` greater than or equals `b`?\n",
    "    - `a < b`: `a` less than `b`?\n",
    "    \n",
    "Boolean Operators\n",
    "---\n",
    "\n",
    "- Compare Boolean values:\n",
    "    - `<bool> and <bool>`: Both must be `True` to evalute to `True`\n",
    "    - `<bool> or <bool>`: Either must be `True` to evaluate to `True`\n",
    "    - `not <bool>`: Invert Boolean"
   ]
  },
  {
   "cell_type": "markdown",
   "metadata": {},
   "source": [
    "Data Structures (Containers)\n",
    "---\n",
    "\n",
    "- Lists (`list`):\n",
    "    - e.g. `[1, 2, 3]`\n",
    "- Tuple (`tuple`):\n",
    "    - e.g. `(1, 2, 3)`\n",
    "- Dictionary (`dict`):\n",
    "    - `<key>: <value>` store e.g. `{'a': 1, 'b': 2}`\n",
    "- Set (`set`)\n",
    "    - e.g. `{1, 2, 3}`\n",
    "    \n",
    "#### Definitions\n",
    "\n",
    "- Ordered:\n",
    "\n",
    "Consider a container called `a`, if the elements can be accessed using `[n]` syntax where `0 <= n < len(a)` the container is ordered. As an example, try the following cell:"
   ]
  },
  {
   "cell_type": "code",
   "execution_count": null,
   "metadata": {
    "collapsed": true
   },
   "outputs": [],
   "source": [
    "a = [0]\n",
    "print(\"Length: {}\".format(len(a)))\n",
    "print(\"a[0] is: {}\".format(a[0]))"
   ]
  },
  {
   "cell_type": "markdown",
   "metadata": {},
   "source": [
    "`0` is in the range `0 <= n < len(a)` and I can access it, `a` is ordered.\n",
    "\n",
    "- Mutable:\n",
    "\n",
    "Consider a container called `a`, if the indexed item can be changed the container is mutable. As an example, try the following cell:"
   ]
  },
  {
   "cell_type": "code",
   "execution_count": null,
   "metadata": {
    "collapsed": true
   },
   "outputs": [],
   "source": [
    "a = [0]\n",
    "a[0] = 1\n",
    "print(\"a[0] is: {}\".format(a[0]))"
   ]
  },
  {
   "cell_type": "markdown",
   "metadata": {},
   "source": [
    "We know `a` is ordered, therefore I can access the elements. I can also change the elements which means `a` is mutable.\n",
    "\n",
    "#### Tasks\n",
    "\n",
    "1. Create a `list` called `a` which contains the numbers 4, 4, 8, and 12.\n",
    "    - Are `list`s ordered?\n",
    "    - Are they mutable?\n",
    "    - Try accessing the element `a[len(a)]`, why doesn't this work? How do you access the last element?\n",
    "2. Create a `tuple` called `b` which contains the number 2, 3, 4.\n",
    "    - Are `tuple`s ordered? mutable?\n",
    "    - When would you want to use a `tuple` over a `list`?\n",
    "3. Create a `dict` called `c` which contains the following key-value pairs `'one': 1`, `'three': 3`, `'five': 5`.\n",
    "    - Note: Dictionaries are accessed by their keys, e.g. `c['one']` would yield 1\n",
    "    - Are `dict`s ordered? mutable?\n",
    "4. Create a `set` called `d` using the same data as `a`\n",
    "    - Are `set`s ordered?\n",
    "    - Print `a` and `d`, what is the difference? What does this imply about `set`s\n",
    "    - Are they mutable?\n",
    "        - try adding an integer to the set with `<set>.add(<value>)`\n",
    "5. Keep the definitions of `a,b,c,d`, but comment any code which you used to test order and mutability. Rerun the cell"
   ]
  },
  {
   "cell_type": "code",
   "execution_count": null,
   "metadata": {
    "collapsed": true
   },
   "outputs": [],
   "source": []
  },
  {
   "cell_type": "code",
   "execution_count": null,
   "metadata": {
    "collapsed": true
   },
   "outputs": [],
   "source": []
  },
  {
   "cell_type": "code",
   "execution_count": null,
   "metadata": {
    "collapsed": true
   },
   "outputs": [],
   "source": []
  },
  {
   "cell_type": "code",
   "execution_count": null,
   "metadata": {
    "collapsed": true
   },
   "outputs": [],
   "source": []
  },
  {
   "cell_type": "markdown",
   "metadata": {},
   "source": [
    "- Pro tip: You can access the last element of a list with `<list>[-1]`"
   ]
  },
  {
   "cell_type": "markdown",
   "metadata": {},
   "source": [
    "Membership Operators\n",
    "---\n",
    "\n",
    "- Return `True` or `False` based on membership, e.g.\n",
    "\n",
    "``` python\n",
    "1 in [1, 2, 3] # evaluates to True\n",
    "0 in [4, 5, 6] # evaluates to False\n",
    "\n",
    "'key' in {'key': 'value'} # True\n",
    "'value' in {'key': 'value'} # False\n",
    "\n",
    "# by values:\n",
    "'value' in {'key': 'value'}.values() # True\n",
    "```"
   ]
  },
  {
   "cell_type": "markdown",
   "metadata": {},
   "source": [
    "Membership-based `for` Loops\n",
    "---\n",
    "\n",
    "#### Syntax\n",
    "\n",
    "```python\n",
    "for <temporary> in <iterable variable>:\n",
    "    # Do something with <temporary>, e.g.\n",
    "    print(<temporary>)\n",
    "```\n",
    "\n",
    "- An `iterable variable` could be a `list`, `set`, `dict`, etc.\n",
    "\n",
    "#### Tasks\n",
    "\n",
    "1. Write membership based `for` loops for `a`, `b`, `c`, and `d` which `print` the contents on a separate line\n",
    "    - Notice anything interesting?\n",
    "2. Use the `range` function to print the even integers from 2 to 20 (hint: `?range` will bring up documentation)\n",
    "    - Definitions: In mathematics, inclusivity (edges are included) is denoted with brackets `[]` and exclusivity (edges are not included) with parenthesis `()`\n",
    "    - Do all of the following: `[2, 20]`, `(2, 20)`, `[2, 20)`, `(2, 20]`\n",
    "    - What is the default in the above notation?"
   ]
  },
  {
   "cell_type": "code",
   "execution_count": null,
   "metadata": {
    "collapsed": true
   },
   "outputs": [],
   "source": []
  },
  {
   "cell_type": "code",
   "execution_count": null,
   "metadata": {
    "collapsed": true
   },
   "outputs": [],
   "source": []
  },
  {
   "cell_type": "code",
   "execution_count": null,
   "metadata": {
    "collapsed": true
   },
   "outputs": [],
   "source": []
  },
  {
   "cell_type": "markdown",
   "metadata": {},
   "source": [
    "Unpacking Complicated Data Structures\n",
    "---\n",
    "\n",
    "You probably noticed that your loop over the dictionary only printed the values. What if you wanted both keys and values?\n",
    "\n",
    "Python allows you to \"unpack\" dictionaries (using the method `items`) as well as list of lists, e.g.\n",
    "\n",
    "```python\n",
    "for key, value in {'a': 1, 'b': 2}.items():\n",
    "    print(\"{}: {}\".format(key, value))\n",
    "```\n",
    "\n",
    "or,\n",
    "\n",
    "```python\n",
    "for i, j in [[1, 2], [3, 4]]:\n",
    "    print(\"{}: {}\".format(i, j))\n",
    "```\n",
    "\n",
    "#### Tasks\n",
    "\n",
    "1. Write a membership based for loop for `c` (dictionary you made previously)\n",
    "2. Generate the following list of list: `[[9, 8], [6, 5], [3, 2]]`. Write a membership based for loop which multiplies the pairs."
   ]
  },
  {
   "cell_type": "code",
   "execution_count": null,
   "metadata": {
    "collapsed": true
   },
   "outputs": [],
   "source": []
  },
  {
   "cell_type": "code",
   "execution_count": null,
   "metadata": {
    "collapsed": true
   },
   "outputs": [],
   "source": []
  },
  {
   "cell_type": "markdown",
   "metadata": {},
   "source": [
    "Flow Control\n",
    "---\n",
    "\n",
    "1. Conditional Statements (`if-elif-else`)\n",
    "    - Use comparison operators and boolean operators which, when evaluate to true, runs some block of code.\n",
    "    - `elif` stands for `else if`\n",
    "  \n",
    "#### Tasks:\n",
    "\n",
    "```python\n",
    "x = 12\n",
    "\n",
    "if x == 0:\n",
    "    print(\"{} is zero\".format(x))\n",
    "elif x > 0:\n",
    "    print(\"{} is negative\".format(x))\n",
    "elif x > 0:\n",
    "    print(\"{} is positive\".format(x))\n",
    "else:\n",
    "    print(\"I don't recognize {}\".format(x))\n",
    "```\n",
    "\n",
    "1. Given the code above, what do you think is printed?\n",
    "2. Copy and paste the code into the cell below, what is actually printed? Why?\n",
    "3. Will the `else` block ever trigger?"
   ]
  },
  {
   "cell_type": "code",
   "execution_count": null,
   "metadata": {
    "collapsed": true
   },
   "outputs": [],
   "source": []
  },
  {
   "cell_type": "markdown",
   "metadata": {},
   "source": [
    "#### Bugs vs Errors\n",
    "\n",
    "- \"Bugs\" are unintended consquences of running code. For example, the original code tells us that 12 is negative\n",
    "- \"Errors\" are produced by the interpreter because something can't be completed\n",
    "\n",
    "#### Tasks\n",
    "\n",
    "1. Fix the bugs to print whether a number is positive, negative, or zero"
   ]
  },
  {
   "cell_type": "code",
   "execution_count": null,
   "metadata": {
    "collapsed": true
   },
   "outputs": [],
   "source": []
  },
  {
   "cell_type": "markdown",
   "metadata": {},
   "source": [
    "- Unfortunately, we don't have time to talk about error handling now. Check out this documentation at a later time: https://docs.python.org/3/tutorial/errors.html."
   ]
  },
  {
   "cell_type": "markdown",
   "metadata": {},
   "source": [
    "Functions\n",
    "---\n",
    "\n",
    "Let's start with a definition for a function which squares the input:\n",
    "\n",
    "```python\n",
    "def square(x):\n",
    "    return x * x\n",
    "```\n",
    "\n",
    "Notes:\n",
    "\n",
    "- `def` is the start of the function definition\n",
    "- `square` is the name of the function. Example use: `a = square(2)`\n",
    "- `return` passes back information to the caller of the function (i.e. `a` above is 4)\n",
    "- Functions don't have to return anything (behind the scenes they return `None`)\n",
    "- When the interpreter evaluates a `return` it will ignore anything else in the function\n",
    "- Meaningful function names help you \n",
    "\n",
    "#### Tasks\n",
    "\n",
    "1. Verify that a function without a `return` statement returns `None`\n",
    "2. Verify that a function with multiple `return` statements only returns the first instance\n",
    "3. Write the definition of a cube function\n",
    "4. Write the definition of the area for a circle given a radius\n",
    "    - $ A = \\pi * r^2 $\n",
    "5. Write the definition of pressure from the ideal gas law (don't worry about the units, this isn't a chemistry class):\n",
    "    - $ PV = nRT $\n",
    "        - `P` is pressure\n",
    "        - `V` is volume\n",
    "        - `n` is the number of moles of gas\n",
    "        - `R` is the universal gas constant\n",
    "        - `T` is a temperature"
   ]
  },
  {
   "cell_type": "code",
   "execution_count": null,
   "metadata": {
    "collapsed": true
   },
   "outputs": [],
   "source": []
  },
  {
   "cell_type": "code",
   "execution_count": null,
   "metadata": {
    "collapsed": true
   },
   "outputs": [],
   "source": []
  },
  {
   "cell_type": "code",
   "execution_count": null,
   "metadata": {
    "collapsed": true
   },
   "outputs": [],
   "source": []
  },
  {
   "cell_type": "code",
   "execution_count": null,
   "metadata": {
    "collapsed": true
   },
   "outputs": [],
   "source": []
  },
  {
   "cell_type": "markdown",
   "metadata": {},
   "source": [
    "Anonymous Functions\n",
    "---\n",
    "\n",
    "These are unnamed functions which are referred to as \"syntactic sugar\". You will see this term a lot. It basically means that when you use them, you write less code. An example:\n",
    "\n",
    "```\n",
    "square = lambda x: x ** 2\n",
    "var = square(2)\n",
    "```\n",
    "\n",
    "which is exactly equivalent to the square function we wrote before, but in a more compact syntax. These are really helpful in the next section.\n",
    "\n",
    "#### Tasks\n",
    "\n",
    "1. Write an anonymous `cube` function\n",
    "2. Write an anonymous `addition` function"
   ]
  },
  {
   "cell_type": "code",
   "execution_count": null,
   "metadata": {
    "collapsed": true
   },
   "outputs": [],
   "source": []
  },
  {
   "cell_type": "code",
   "execution_count": null,
   "metadata": {
    "collapsed": true
   },
   "outputs": [],
   "source": []
  },
  {
   "cell_type": "markdown",
   "metadata": {},
   "source": [
    "Iterators\n",
    "---\n",
    "\n",
    "Previously, I called `for value in iterator` a membership based for loop. However, I didn't explain the `iterator` part at all. Some iterators, operate a little differently. For example, `range` doesn't actually build a `list` in memory even though it looked very similar to our `for value in list` example previously. Instead a `range` operates in \"constant stack space\", i.e. the space it occupies in memory never changes. For example,\n",
    "\n",
    "```python\n",
    "n = 10 ** 12 # a really huge number\n",
    "for x in range(n):\n",
    "    if x >= 10: break\n",
    "    else: print(x)\n",
    "```\n",
    "\n",
    "If the above code did build an object to store all of the numbers from 0 to `10 ** 12` it would fail, but iterators are special.\n",
    "\n",
    "Other iterators:\n",
    "\n",
    "- `enumerate`, e.g.\n",
    "\n",
    "```python\n",
    "L = [1, 2, 3, 4]\n",
    "for index in range(len[L]):\n",
    "    print(index, L[index])\n",
    "    \n",
    "for index, item in enumarate(L):\n",
    "    print(index, item)\n",
    "```\n",
    "\n",
    "- `zip`:\n",
    "\n",
    "```python\n",
    "L = [2, 4, 6]\n",
    "R = [3, 6, 9]\n",
    "for l, r in zip(L, R):\n",
    "    print(l * r)\n",
    "```\n",
    "\n",
    "- `map`:\n",
    "\n",
    "```python\n",
    "for squares in map(lambda x: x ** 2, range(10)):\n",
    "    print(squares)\n",
    "```\n",
    "\n",
    "- `filter`:\n",
    "\n",
    "```python\n",
    "for evens in filter(lambda x: x % 2 == 0, range(10)):\n",
    "    print(evens)\n",
    "```\n",
    "\n",
    "#### Tasks\n",
    "\n",
    "1. Use `enumerate` and `range` to print the index and value of even integers between [0, 10).\n",
    "2. Use `enumerate` and `zip` to sum the two lists into a new list `c`:\n",
    "    - `a = [1, 2, 3]`\n",
    "    - `b = [3, 4, 5]`\n",
    "    - Initialize `c = [None] * len(a)`\n",
    "    - Try `list(enumerate(zip(a, b)))` to see the shape of what to unpack\n",
    "3. Use `map` to print the square of the cubes in the range [0, 10) using only anonymous functions\n",
    "4. Use `filter` to print the cube of even squares in the range [0, 10) using only anonymous functions"
   ]
  },
  {
   "cell_type": "code",
   "execution_count": null,
   "metadata": {
    "collapsed": true
   },
   "outputs": [],
   "source": []
  },
  {
   "cell_type": "code",
   "execution_count": null,
   "metadata": {
    "collapsed": true
   },
   "outputs": [],
   "source": []
  },
  {
   "cell_type": "code",
   "execution_count": null,
   "metadata": {
    "collapsed": true
   },
   "outputs": [],
   "source": []
  },
  {
   "cell_type": "code",
   "execution_count": null,
   "metadata": {
    "collapsed": true
   },
   "outputs": [],
   "source": []
  },
  {
   "cell_type": "markdown",
   "metadata": {},
   "source": [
    "Comprehensions\n",
    "---\n",
    "\n",
    "In \"2.\" of the previous question we had to build a list prior to the loop. We could have also used `c = []` and `c.append(x + y)`, but note that `append` is an extremely slow function. Python also provides some syntactic sugar for this case, e.g.\n",
    "\n",
    "```python\n",
    "a = [1, 2, 3]\n",
    "b = [3, 4, 5]\n",
    "c = [x + y for x, y in zip(a, b)]\n",
    "```\n",
    "\n",
    "This is extremely terse and readable. This is called a \"List Comprehension\" and is probably my favorite Python feature. You can also append filter clauses! e.g.\n",
    "\n",
    "```python\n",
    "a = [1, 2, 3]\n",
    "b = [3, 4, 5]\n",
    "c = [x + y for x, y in zip(a, b) if x % 2 == 0]\n",
    "```\n",
    "\n",
    "There are also dictionary comprehensions! e.g.\n",
    "\n",
    "```python\n",
    "values_dict = {'one': 1, 'three': 3, 'five': 5}\n",
    "squares_dict = {k: v ** 2 for k, v in values_dict.items()}\n",
    "\n",
    "# or\n",
    "\n",
    "songs = [\"Tom Sawyer\", \"Money\", \"Simple Man\"]\n",
    "artists = [\"Rush\", \"Pink Floyd\", \"Lynyrd Skynyrd\"]\n",
    "songs_dict = {k: v for k, v in zip(artists, songs)}\n",
    "```\n",
    "\n",
    "#### Tasks\n",
    "\n",
    "1. Using the `songs` and `artists`, create the following dictionaries:\n",
    "    - keys: songs, values: artists, only if the artist has an `n` in the name\n",
    "2. Create a list that contains the cubes divided by the squares in the range [1, 10) only if the division is divisible by 2\n",
    "    - Note: you likely already have `square` and `cube` defined as anonymous functions!\n",
    "    - Predefine the range! i.e. `vals = range(<something>)`\n",
    "3. What function would you need to make \"2.\" a dictionary with the index as the key? You are welcome to try this, but the hard work is already done :)"
   ]
  },
  {
   "cell_type": "code",
   "execution_count": null,
   "metadata": {
    "collapsed": true
   },
   "outputs": [],
   "source": []
  },
  {
   "cell_type": "code",
   "execution_count": null,
   "metadata": {
    "collapsed": true
   },
   "outputs": [],
   "source": []
  },
  {
   "cell_type": "code",
   "execution_count": null,
   "metadata": {
    "collapsed": true
   },
   "outputs": [],
   "source": []
  },
  {
   "cell_type": "code",
   "execution_count": null,
   "metadata": {
    "collapsed": true
   },
   "outputs": [],
   "source": []
  },
  {
   "cell_type": "markdown",
   "metadata": {},
   "source": [
    "Modules and Packages\n",
    "---\n",
    "\n",
    "Python has a rich ecosystem of packages for all kinds of research domains!\n",
    "\n",
    "- Syntax variants\n",
    "``` python\n",
    "import <package>\n",
    "from <package> import <member>\n",
    "```\n",
    "- Nice feature about Jupyter Notebooks is that they autcomplete member names\n",
    "\n",
    "#### Tasks\n",
    "\n",
    "1. Try to import just the `sub` method from the `re` module."
   ]
  },
  {
   "cell_type": "markdown",
   "metadata": {},
   "source": [
    "Reading and Writing Files\n",
    "---\n",
    "\n",
    "Turns out, we can use `open` to generate a file iterator. We can work on a file line by line and generate just the content into a list in memory (`strip` removes the newline character):\n",
    "\n",
    "```python\n",
    "lines = [line.strip() for line in open(<filename>)]\n",
    "```\n",
    "\n",
    "or, maybe you need process each line and write a new file (by default `'w'` overwrites the file):\n",
    "\n",
    "```python\n",
    "with open(<otherfile>, 'w') as f:\n",
    "    for line in open(<filename>):\n",
    "        f.write(<modify line in some way>) # Write doesn't append a newline automatically, therefore you may need to write a newline\n",
    "        f.write('\\n') # Or, on one line: f.write(\"{}\\n\".format(<modify line in some way>))\n",
    "```\n",
    "\n",
    "To append to a file use `open(<filename>, 'a')`."
   ]
  },
  {
   "cell_type": "code",
   "execution_count": null,
   "metadata": {
    "collapsed": true
   },
   "outputs": [],
   "source": []
  },
  {
   "cell_type": "code",
   "execution_count": null,
   "metadata": {
    "collapsed": true
   },
   "outputs": [],
   "source": []
  },
  {
   "cell_type": "markdown",
   "metadata": {},
   "source": [
    "Project 1\n",
    "---\n",
    "\n",
    "#### Description\n",
    "\n",
    "You were given a \"Comma Separated Value\" (csv) file, but the program you are interested in using only reads data in \"Tab Separated Value\" (tsv) format. The file is massive and crashes your Excel, you tried Google Sheets too but the browser freezes when opening the file. Now what?\n",
    "\n",
    "#### Hints\n",
    "\n",
    "- To convert one character to something else, use `str.replace(\"<old>\", \"<new>\")`:"
   ]
  },
  {
   "cell_type": "code",
   "execution_count": null,
   "metadata": {
    "collapsed": true
   },
   "outputs": [],
   "source": [
    "a = \"Hello World\"\n",
    "a.replace(\"l\", \":)\")"
   ]
  },
  {
   "cell_type": "markdown",
   "metadata": {},
   "source": [
    "- The tab character is represented by `\\t`.\n",
    "\n",
    "#### Tasks\n",
    "\n",
    "1. Use the idioms you already know to convert `example.csv` to `example.tsv`\n",
    "    - Typically the first line of a csv file contains some descriptors of the data inside. I removed that for simplicity, but would it have mattered?"
   ]
  },
  {
   "cell_type": "code",
   "execution_count": null,
   "metadata": {
    "collapsed": true
   },
   "outputs": [],
   "source": []
  },
  {
   "cell_type": "markdown",
   "metadata": {},
   "source": [
    "Project 2\n",
    "---\n",
    "\n",
    "#### Description\n",
    "\n",
    "Recently I was asked to figure out the average wait times for jobs on H2P, our advanced research computer as Pitt.\n",
    "\n",
    "#### Hints\n",
    "\n",
    "- Times and dates are notoriously annoying to deal with. Luckily in this case, the times are in a consistent format. Each time is given in this shape: `\"2017-06-30T14:57:29\"`, which in Python is represented by the following string `\"%Y-%m-%dT%H:%M:%S\"`. You can convert these to `datetime` objects with the function `strptime`. To find the difference between 2 times in hours:"
   ]
  },
  {
   "cell_type": "code",
   "execution_count": null,
   "metadata": {
    "collapsed": true
   },
   "outputs": [],
   "source": [
    "from datetime import datetime\n",
    "time_start = \"2017-06-30T14:57:29\"\n",
    "time_end = \"2017-07-02T14:59:45\"\n",
    "time_format = \"%Y-%m-%dT%H:%M:%S\"\n",
    "delta = datetime.strptime(time_end, time_format) - datetime.strptime(time_start, time_format)\n",
    "print(delta.total_seconds() / (60 * 60))"
   ]
  },
  {
   "cell_type": "markdown",
   "metadata": {},
   "source": [
    "- The format of this file is bar `|` separated (for whatever reason), to process each line:"
   ]
  },
  {
   "cell_type": "code",
   "execution_count": null,
   "metadata": {
    "collapsed": true
   },
   "outputs": [],
   "source": [
    "line_of_file = \"don't need|time_start|time_end\"\n",
    "line_of_file.split('|')"
   ]
  },
  {
   "cell_type": "markdown",
   "metadata": {},
   "source": [
    "#### Tasks\n",
    "\n",
    "1. Write a defined function which takes a line in the date format above, subtracts them, and converts them to hours (you can use a defined function)\n",
    "    - Hint: don't forget about the newline\n",
    "2. Write a list comprehension to apply your function to each line in the file\n",
    "3. Determine the mean wait times"
   ]
  },
  {
   "cell_type": "code",
   "execution_count": null,
   "metadata": {
    "collapsed": true
   },
   "outputs": [],
   "source": []
  },
  {
   "cell_type": "code",
   "execution_count": null,
   "metadata": {
    "collapsed": true
   },
   "outputs": [],
   "source": []
  },
  {
   "cell_type": "code",
   "execution_count": null,
   "metadata": {
    "collapsed": true
   },
   "outputs": [],
   "source": []
  },
  {
   "cell_type": "markdown",
   "metadata": {
    "collapsed": true
   },
   "source": [
    "#### Additional Resources\n",
    "\n",
    "1. Me! Don't hesitate to email me (bmooreii@pitt.edu) and we can make an appointment\n",
    "2. This workshop is losely modeled after [World Wind Tour](http://nbviewer.jupyter.org/github/jakevdp/WhirlwindTourOfPython/blob/master/Index.ipynb)\n",
    "3. [Stack Overflow](https://stackoverflow.com). If you \"Google it\" it is probably coming from Stack Overlow. Pro tip, search for: `python <search phrase>`\n",
    "\n",
    "#### [Python Docs](https://docs.python.org/3/library/index.html)\n",
    "\n",
    "#### Useful Python Packages\n",
    "\n",
    "1. [docopt](http://docopt.org) - command line arguments (not helpful in a Jupyter Notebook)\n",
    "2. [pandas](http://pandas.pydata.org) - great for processing data\n",
    "3. [matplotlib](https://matplotlib.org) - plotting tool, can view inside Jupyter Notebooks!\n",
    "4. [requests](http://docs.python-requests.org/en/master) - HTTP Requests\n",
    "5. [numba](https://numba.pydata.org) - just-in-time compilation for Python\n",
    "6. [subprocess](https://docs.python.org/3/library/subprocess.html) - run external commands\n",
    "\n",
    "#### Quick Survey"
   ]
  },
  {
   "cell_type": "code",
   "execution_count": null,
   "metadata": {
    "collapsed": true
   },
   "outputs": [],
   "source": [
    "from IPython.display import IFrame\n",
    "IFrame(\"\", width=760, height=500)"
   ]
  }
 ],
 "metadata": {
  "kernelspec": {
   "display_name": "Python 3",
   "language": "python",
   "name": "python3"
  },
  "language_info": {
   "codemirror_mode": {
    "name": "ipython",
    "version": 3
   },
   "file_extension": ".py",
   "mimetype": "text/x-python",
   "name": "python",
   "nbconvert_exporter": "python",
   "pygments_lexer": "ipython3",
   "version": "3.5.3"
  }
 },
 "nbformat": 4,
 "nbformat_minor": 2
}
